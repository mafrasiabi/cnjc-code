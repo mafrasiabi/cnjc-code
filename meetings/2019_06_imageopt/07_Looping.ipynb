{
 "cells": [
  {
   "cell_type": "code",
   "execution_count": null,
   "metadata": {},
   "outputs": [],
   "source": [
    "%matplotlib inline\n",
    "import matplotlib.pyplot as plt\n",
    "import numpy as np\n",
    "import tensorflow as tf"
   ]
  },
  {
   "cell_type": "code",
   "execution_count": null,
   "metadata": {},
   "outputs": [],
   "source": [
    "from models import alexnet_wrapper\n",
    "from utils import norm_image, total_variation_loss\n",
    "import xforms"
   ]
  },
  {
   "cell_type": "markdown",
   "metadata": {},
   "source": [
    "### Set up tensorflow graph"
   ]
  },
  {
   "cell_type": "code",
   "execution_count": null,
   "metadata": {},
   "outputs": [],
   "source": [
    "params = {\n",
    "    'regularization_scale': 1e-4,\n",
    "    'learning_rate': 0.05,\n",
    "    'total_variation_weight': .5\n",
    "}\n",
    "\n",
    "scales = [1 + (i - 5) / 50. for i in range(11)]\n",
    "angles = list(range(-10, 11)) + 5 * [0]"
   ]
  },
  {
   "cell_type": "code",
   "execution_count": null,
   "metadata": {},
   "outputs": [],
   "source": [
    "CHECKPOINT_PATH = 'checkpoints/model.ckpt-115000'"
   ]
  },
  {
   "cell_type": "code",
   "execution_count": null,
   "metadata": {},
   "outputs": [],
   "source": [
    "NUM_STEPS = 32"
   ]
  },
  {
   "cell_type": "code",
   "execution_count": null,
   "metadata": {},
   "outputs": [],
   "source": [
    "# choose 16 channels at random\n",
    "channels_to_use = np.random.choice(np.arange(384), size=(16,), replace=False)\n",
    "channel_list = list()"
   ]
  },
  {
   "cell_type": "code",
   "execution_count": null,
   "metadata": {
    "scrolled": false
   },
   "outputs": [],
   "source": [
    "for channel in channels_to_use:\n",
    "    tf.reset_default_graph()\n",
    "    print(\"-------------Working on channel %d-------------\" % channel)\n",
    "    \n",
    "    image_initializer = tf.random_uniform_initializer(\n",
    "        minval=0,\n",
    "        maxval=1,\n",
    "    )\n",
    "\n",
    "    image_regularizer = tf.contrib.layers.l2_regularizer(\n",
    "        scale=params['regularization_scale']\n",
    "    )\n",
    "\n",
    "    image_shape = (1, 128, 128, 3)\n",
    "    images = tf.get_variable(\n",
    "        \"images\",\n",
    "        image_shape,\n",
    "        initializer=image_initializer,\n",
    "        regularizer=image_regularizer)\n",
    "    \n",
    "    images = xforms.pad(images, pad_amount=12)\n",
    "    images = xforms.jitter(images, jitter_amount=8)\n",
    "    images = xforms.random_scale(images, scales)\n",
    "    images = xforms.random_rotate(images, angles)\n",
    "    images = xforms.jitter(images, jitter_amount=4)\n",
    "    \n",
    "    tensor_name = 'conv_3'\n",
    "    model_output = alexnet_wrapper(\n",
    "        images,\n",
    "        tensor_name=tensor_name,\n",
    "        train=False\n",
    "    )\n",
    "    \n",
    "    mean_channel_activity = tf.reduce_mean(model_output[:, :, :, channel])\n",
    "    tv_loss = total_variation_loss(images)\n",
    "    tf_reg = tf.reduce_sum(tf.get_collection(tf.GraphKeys.REGULARIZATION_LOSSES))\n",
    "    total_regularization = tv_loss * params['total_variation_weight'] + tf_reg\n",
    "\n",
    "    loss = tf.negative(mean_channel_activity) + total_regularization\n",
    "    variables_to_train = [var for var in tf.trainable_variables() if \"images:0\" == var.name]\n",
    "    \n",
    "    optimizer = tf.train.AdamOptimizer(params['learning_rate'])\n",
    "    train_op = optimizer.minimize(loss, var_list=variables_to_train)\n",
    "    \n",
    "    sess = tf.Session()\n",
    "    sess.run(tf.global_variables_initializer())\n",
    "    all_variables = tf.get_collection_ref(tf.GraphKeys.GLOBAL_VARIABLES)\n",
    "    saver = tf.train.Saver(\n",
    "        var_list=[v for v in all_variables if \"images\" not in v.name and \"beta\" not in v.name]\n",
    "    )\n",
    "    saver.restore(sess, CHECKPOINT_PATH)\n",
    "    image_list = list()\n",
    "\n",
    "    for step in range(NUM_STEPS):\n",
    "        image_list.append(norm_image(sess.run(images)))\n",
    "        sess.run(train_op)\n",
    "        \n",
    "    channel_list.append(image_list)\n"
   ]
  },
  {
   "cell_type": "markdown",
   "metadata": {},
   "source": [
    "#### Plot outputs"
   ]
  },
  {
   "cell_type": "code",
   "execution_count": null,
   "metadata": {
    "scrolled": false
   },
   "outputs": [],
   "source": [
    "from matplotlib import animation\n",
    "from IPython.display import HTML\n",
    "\n",
    "plt.rcParams[\"animation.html\"] = \"jshtml\"  # for matplotlib 2.1 and above, uses JavaScript\n",
    "plt.rcParams['animation.embed_limit'] = 40\n",
    "\n",
    "fig, axes = plt.subplots(figsize=(20, 20), nrows=4, ncols=4)\n",
    "axes = axes.ravel()\n",
    "\n",
    "ax_data_list = list()\n",
    "for ax in axes:\n",
    "    ax_data_list.append(ax.imshow(np.zeros((128, 128, 3))))\n",
    "    ax.axis('off')\n",
    "\n",
    "def animate(i):\n",
    "    for idx, ad in enumerate(ax_data_list):\n",
    "        ad.set_data(np.squeeze(channel_list[idx][i]))\n",
    "\n",
    "ani = animation.FuncAnimation(fig, animate, frames=NUM_STEPS)\n",
    "ani"
   ]
  },
  {
   "cell_type": "code",
   "execution_count": null,
   "metadata": {},
   "outputs": [],
   "source": []
  }
 ],
 "metadata": {
  "kernelspec": {
   "display_name": "Python 3",
   "language": "python",
   "name": "python3"
  },
  "language_info": {
   "codemirror_mode": {
    "name": "ipython",
    "version": 3
   },
   "file_extension": ".py",
   "mimetype": "text/x-python",
   "name": "python",
   "nbconvert_exporter": "python",
   "pygments_lexer": "ipython3",
   "version": "3.6.5"
  }
 },
 "nbformat": 4,
 "nbformat_minor": 2
}
